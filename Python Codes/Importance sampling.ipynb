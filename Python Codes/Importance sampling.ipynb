{
 "cells": [
  {
   "cell_type": "markdown",
   "metadata": {},
   "source": [
    "### Importance Sampling \n",
    "\n",
    "#### 1. Computing small tail probabilities \n",
    "\n",
    "Let $X\\sim \\chi_3^2$. In the following, we compute the probability $Pr(X > 25)$ using importance sampling and Monte Carlo method. We use the trancated exponential at 25 with rate parameter 1, denoted by $\\mathcal{TE}(1)$, which is obtained by translating the exponential distirbution $\\mathcal{E}(1)$ by 25."
   ]
  },
  {
   "cell_type": "code",
   "execution_count": 3,
   "metadata": {},
   "outputs": [
    {
     "name": "stdout",
     "output_type": "stream",
     "text": [
      "1.6002957393024085e-05\n"
     ]
    }
   ],
   "source": [
    "# (Exercise 3.16 Robert Cassela Monte Carlo Statisticals Methods)\n",
    "# 1. Computing the probability with importance sampling \n",
    "M =  100 \n",
    "\n",
    "# Generating a sample from the trancated exponential distribution\n",
    "import numpy as np\n",
    "X = np.random.exponential(1, size = M) + 25\n",
    "\n",
    "# Density function of the truncated exponential distribution\n",
    "def truncated_exponential_pdf(x):\n",
    "    if x < 25:\n",
    "        return 0\n",
    "    else:\n",
    "        return np.exp(-x + 25)\n",
    "    \n",
    "# Density function of the chi squared distribution with 3 degrees of freedom\n",
    "from scipy.stats import chi2\n",
    "def chi_squared_pdf(x):\n",
    "    return chi2.pdf(x, 3)\n",
    "\n",
    "pr =np.mean(np.array([chi_squared_pdf(x)/truncated_exponential_pdf(x) for x in X]))\n",
    "print(pr)\n"
   ]
  },
  {
   "cell_type": "code",
   "execution_count": null,
   "metadata": {},
   "outputs": [],
   "source": [
    "\n"
   ]
  }
 ],
 "metadata": {
  "kernelspec": {
   "display_name": "myenv",
   "language": "python",
   "name": "python3"
  },
  "language_info": {
   "codemirror_mode": {
    "name": "ipython",
    "version": 3
   },
   "file_extension": ".py",
   "mimetype": "text/x-python",
   "name": "python",
   "nbconvert_exporter": "python",
   "pygments_lexer": "ipython3",
   "version": "3.10.13"
  }
 },
 "nbformat": 4,
 "nbformat_minor": 2
}
